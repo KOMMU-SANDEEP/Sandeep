{
 "cells": [
  {
   "cell_type": "code",
   "execution_count": 1,
   "metadata": {},
   "outputs": [],
   "source": [
    "import pandas\n",
    "from pandas.plotting import scatter_matrix\n",
    "import matplotlib.pyplot as plt\n",
    "from sklearn import model_selection\n",
    "from sklearn.metrics import classification_report\n",
    "from sklearn.metrics import accuracy_score\n",
    "from sklearn.linear_model import LogisticRegression\n",
    "from sklearn.tree import DecisionTreeClassifier\n",
    "from sklearn.neighbors import KNeighborsClassifier\n",
    "from sklearn.discriminant_analysis import LinearDiscriminantAnalysis\n",
    "from sklearn.naive_bayes import GaussianNB\n",
    "from sklearn.svm import SVC\n",
    "\n"
   ]
  },
  {
   "cell_type": "code",
   "execution_count": 5,
   "metadata": {},
   "outputs": [],
   "source": [
    "import pandas as pd\n",
    "import os"
   ]
  },
  {
   "cell_type": "code",
   "execution_count": 331,
   "metadata": {},
   "outputs": [
    {
     "name": "stdout",
     "output_type": "stream",
     "text": [
      "    Area(in sq yards)               Price(in Lakh)\n",
      "0               22.20                       300000\n",
      "1               28.00                       308000\n",
      "2               31.70                       400000\n",
      "3               35.70                       405000\n",
      "4               40.00                       408500\n",
      "5               44.44                       409600\n",
      "6               49.11                       409700\n",
      "7               54.00                       500000\n",
      "8               59.10                       505000\n",
      "9               64.40                       507500\n",
      "10              70.00                       600000\n",
      "11              75.70                       605000\n",
      "12              81.70                       705000\n",
      "13              88.00                       725000\n",
      "14              94.40                       735000\n",
      "15             101.10                       800000\n",
      "16             110.00                       900000\n",
      "17             115.10                      1085000\n",
      "18             122.40                      1195800\n",
      "19             123.00                      1197800\n",
      "20             125.00                      1200000\n",
      "21             126.50                      1215000\n",
      "22             128.90                      1235000\n",
      "23             130.00                      1245000\n",
      "24             132.70                      1255000\n",
      "25             134.00                      1268000\n",
      "26             135.00                      1275000\n",
      "27             136.50                      1285000\n",
      "28             138.00                      1292000\n",
      "29             140.00                      1297000\n",
      "30             142.00                      1300000\n",
      "31             145.00                      1305000\n",
      "32             148.00                      1315000\n",
      "33             150.00                      1320000\n",
      "34             155.00                      1335000\n",
      "35             158.00                      1338500\n",
      "36             162.00                      1355000\n",
      "37             165.00                      1358000\n",
      "38             169.58                      1364789\n",
      "39             170.25                      1366000\n",
      "40             175.20                      1371000\n",
      "41             179.00                      1375000\n",
      "42             182.00                      1398563\n",
      "43             185.00                      1399700\n",
      "44             189.25                      1405000\n",
      "45             192.00                      1412000\n",
      "46             195.00                      1418956\n",
      "47             198.00                      1425000\n",
      "48             200.00                      1500000\n"
     ]
    }
   ],
   "source": [
    "df = pd.read_excel(\"Housing_excel.xlsx\")\n",
    "print(df)"
   ]
  },
  {
   "cell_type": "code",
   "execution_count": 332,
   "metadata": {},
   "outputs": [
    {
     "data": {
      "text/html": [
       "<div>\n",
       "<style scoped>\n",
       "    .dataframe tbody tr th:only-of-type {\n",
       "        vertical-align: middle;\n",
       "    }\n",
       "\n",
       "    .dataframe tbody tr th {\n",
       "        vertical-align: top;\n",
       "    }\n",
       "\n",
       "    .dataframe thead th {\n",
       "        text-align: right;\n",
       "    }\n",
       "</style>\n",
       "<table border=\"1\" class=\"dataframe\">\n",
       "  <thead>\n",
       "    <tr style=\"text-align: right;\">\n",
       "      <th></th>\n",
       "      <th>Area(in sq yards)</th>\n",
       "      <th>Price(in Lakh)</th>\n",
       "    </tr>\n",
       "  </thead>\n",
       "  <tbody>\n",
       "    <tr>\n",
       "      <th>0</th>\n",
       "      <td>22.20</td>\n",
       "      <td>300000</td>\n",
       "    </tr>\n",
       "    <tr>\n",
       "      <th>1</th>\n",
       "      <td>28.00</td>\n",
       "      <td>308000</td>\n",
       "    </tr>\n",
       "    <tr>\n",
       "      <th>2</th>\n",
       "      <td>31.70</td>\n",
       "      <td>400000</td>\n",
       "    </tr>\n",
       "    <tr>\n",
       "      <th>3</th>\n",
       "      <td>35.70</td>\n",
       "      <td>405000</td>\n",
       "    </tr>\n",
       "    <tr>\n",
       "      <th>4</th>\n",
       "      <td>40.00</td>\n",
       "      <td>408500</td>\n",
       "    </tr>\n",
       "    <tr>\n",
       "      <th>5</th>\n",
       "      <td>44.44</td>\n",
       "      <td>409600</td>\n",
       "    </tr>\n",
       "    <tr>\n",
       "      <th>6</th>\n",
       "      <td>49.11</td>\n",
       "      <td>409700</td>\n",
       "    </tr>\n",
       "    <tr>\n",
       "      <th>7</th>\n",
       "      <td>54.00</td>\n",
       "      <td>500000</td>\n",
       "    </tr>\n",
       "    <tr>\n",
       "      <th>8</th>\n",
       "      <td>59.10</td>\n",
       "      <td>505000</td>\n",
       "    </tr>\n",
       "    <tr>\n",
       "      <th>9</th>\n",
       "      <td>64.40</td>\n",
       "      <td>507500</td>\n",
       "    </tr>\n",
       "    <tr>\n",
       "      <th>10</th>\n",
       "      <td>70.00</td>\n",
       "      <td>600000</td>\n",
       "    </tr>\n",
       "    <tr>\n",
       "      <th>11</th>\n",
       "      <td>75.70</td>\n",
       "      <td>605000</td>\n",
       "    </tr>\n",
       "    <tr>\n",
       "      <th>12</th>\n",
       "      <td>81.70</td>\n",
       "      <td>705000</td>\n",
       "    </tr>\n",
       "    <tr>\n",
       "      <th>13</th>\n",
       "      <td>88.00</td>\n",
       "      <td>725000</td>\n",
       "    </tr>\n",
       "    <tr>\n",
       "      <th>14</th>\n",
       "      <td>94.40</td>\n",
       "      <td>735000</td>\n",
       "    </tr>\n",
       "    <tr>\n",
       "      <th>15</th>\n",
       "      <td>101.10</td>\n",
       "      <td>800000</td>\n",
       "    </tr>\n",
       "    <tr>\n",
       "      <th>16</th>\n",
       "      <td>110.00</td>\n",
       "      <td>900000</td>\n",
       "    </tr>\n",
       "    <tr>\n",
       "      <th>17</th>\n",
       "      <td>115.10</td>\n",
       "      <td>1085000</td>\n",
       "    </tr>\n",
       "    <tr>\n",
       "      <th>18</th>\n",
       "      <td>122.40</td>\n",
       "      <td>1195800</td>\n",
       "    </tr>\n",
       "    <tr>\n",
       "      <th>19</th>\n",
       "      <td>123.00</td>\n",
       "      <td>1197800</td>\n",
       "    </tr>\n",
       "    <tr>\n",
       "      <th>20</th>\n",
       "      <td>125.00</td>\n",
       "      <td>1200000</td>\n",
       "    </tr>\n",
       "    <tr>\n",
       "      <th>21</th>\n",
       "      <td>126.50</td>\n",
       "      <td>1215000</td>\n",
       "    </tr>\n",
       "    <tr>\n",
       "      <th>22</th>\n",
       "      <td>128.90</td>\n",
       "      <td>1235000</td>\n",
       "    </tr>\n",
       "    <tr>\n",
       "      <th>23</th>\n",
       "      <td>130.00</td>\n",
       "      <td>1245000</td>\n",
       "    </tr>\n",
       "    <tr>\n",
       "      <th>24</th>\n",
       "      <td>132.70</td>\n",
       "      <td>1255000</td>\n",
       "    </tr>\n",
       "    <tr>\n",
       "      <th>25</th>\n",
       "      <td>134.00</td>\n",
       "      <td>1268000</td>\n",
       "    </tr>\n",
       "    <tr>\n",
       "      <th>26</th>\n",
       "      <td>135.00</td>\n",
       "      <td>1275000</td>\n",
       "    </tr>\n",
       "    <tr>\n",
       "      <th>27</th>\n",
       "      <td>136.50</td>\n",
       "      <td>1285000</td>\n",
       "    </tr>\n",
       "    <tr>\n",
       "      <th>28</th>\n",
       "      <td>138.00</td>\n",
       "      <td>1292000</td>\n",
       "    </tr>\n",
       "    <tr>\n",
       "      <th>29</th>\n",
       "      <td>140.00</td>\n",
       "      <td>1297000</td>\n",
       "    </tr>\n",
       "  </tbody>\n",
       "</table>\n",
       "</div>"
      ],
      "text/plain": [
       "    Area(in sq yards)               Price(in Lakh)\n",
       "0               22.20                       300000\n",
       "1               28.00                       308000\n",
       "2               31.70                       400000\n",
       "3               35.70                       405000\n",
       "4               40.00                       408500\n",
       "5               44.44                       409600\n",
       "6               49.11                       409700\n",
       "7               54.00                       500000\n",
       "8               59.10                       505000\n",
       "9               64.40                       507500\n",
       "10              70.00                       600000\n",
       "11              75.70                       605000\n",
       "12              81.70                       705000\n",
       "13              88.00                       725000\n",
       "14              94.40                       735000\n",
       "15             101.10                       800000\n",
       "16             110.00                       900000\n",
       "17             115.10                      1085000\n",
       "18             122.40                      1195800\n",
       "19             123.00                      1197800\n",
       "20             125.00                      1200000\n",
       "21             126.50                      1215000\n",
       "22             128.90                      1235000\n",
       "23             130.00                      1245000\n",
       "24             132.70                      1255000\n",
       "25             134.00                      1268000\n",
       "26             135.00                      1275000\n",
       "27             136.50                      1285000\n",
       "28             138.00                      1292000\n",
       "29             140.00                      1297000"
      ]
     },
     "execution_count": 332,
     "metadata": {},
     "output_type": "execute_result"
    }
   ],
   "source": [
    "df.head(30)"
   ]
  },
  {
   "cell_type": "code",
   "execution_count": 333,
   "metadata": {},
   "outputs": [
    {
     "data": {
      "text/html": [
       "<div>\n",
       "<style scoped>\n",
       "    .dataframe tbody tr th:only-of-type {\n",
       "        vertical-align: middle;\n",
       "    }\n",
       "\n",
       "    .dataframe tbody tr th {\n",
       "        vertical-align: top;\n",
       "    }\n",
       "\n",
       "    .dataframe thead th {\n",
       "        text-align: right;\n",
       "    }\n",
       "</style>\n",
       "<table border=\"1\" class=\"dataframe\">\n",
       "  <thead>\n",
       "    <tr style=\"text-align: right;\">\n",
       "      <th></th>\n",
       "      <th>Area(in sq yards)</th>\n",
       "      <th>Price(in Lakh)</th>\n",
       "    </tr>\n",
       "  </thead>\n",
       "  <tbody>\n",
       "    <tr>\n",
       "      <th>count</th>\n",
       "      <td>49.000000</td>\n",
       "      <td>4.900000e+01</td>\n",
       "    </tr>\n",
       "    <tr>\n",
       "      <th>mean</th>\n",
       "      <td>122.386327</td>\n",
       "      <td>1.047580e+06</td>\n",
       "    </tr>\n",
       "    <tr>\n",
       "      <th>std</th>\n",
       "      <td>51.598131</td>\n",
       "      <td>3.920604e+05</td>\n",
       "    </tr>\n",
       "    <tr>\n",
       "      <th>min</th>\n",
       "      <td>22.200000</td>\n",
       "      <td>3.000000e+05</td>\n",
       "    </tr>\n",
       "    <tr>\n",
       "      <th>25%</th>\n",
       "      <td>81.700000</td>\n",
       "      <td>7.050000e+05</td>\n",
       "    </tr>\n",
       "    <tr>\n",
       "      <th>50%</th>\n",
       "      <td>132.700000</td>\n",
       "      <td>1.255000e+06</td>\n",
       "    </tr>\n",
       "    <tr>\n",
       "      <th>75%</th>\n",
       "      <td>162.000000</td>\n",
       "      <td>1.355000e+06</td>\n",
       "    </tr>\n",
       "    <tr>\n",
       "      <th>max</th>\n",
       "      <td>200.000000</td>\n",
       "      <td>1.500000e+06</td>\n",
       "    </tr>\n",
       "  </tbody>\n",
       "</table>\n",
       "</div>"
      ],
      "text/plain": [
       "       Area(in sq yards)               Price(in Lakh)\n",
       "count          49.000000                 4.900000e+01\n",
       "mean          122.386327                 1.047580e+06\n",
       "std            51.598131                 3.920604e+05\n",
       "min            22.200000                 3.000000e+05\n",
       "25%            81.700000                 7.050000e+05\n",
       "50%           132.700000                 1.255000e+06\n",
       "75%           162.000000                 1.355000e+06\n",
       "max           200.000000                 1.500000e+06"
      ]
     },
     "execution_count": 333,
     "metadata": {},
     "output_type": "execute_result"
    }
   ],
   "source": [
    "df.describe()"
   ]
  },
  {
   "cell_type": "code",
   "execution_count": 334,
   "metadata": {},
   "outputs": [
    {
     "data": {
      "text/plain": [
       "Area(in sq yards)              False\n",
       "             Price(in Lakh)    False\n",
       "dtype: bool"
      ]
     },
     "execution_count": 334,
     "metadata": {},
     "output_type": "execute_result"
    }
   ],
   "source": [
    "df.isnull().any()"
   ]
  },
  {
   "cell_type": "code",
   "execution_count": 335,
   "metadata": {},
   "outputs": [],
   "source": [
    "x = df.iloc[:,0:1].values\n",
    "y = df.iloc[:,1:2].values"
   ]
  },
  {
   "cell_type": "code",
   "execution_count": 336,
   "metadata": {},
   "outputs": [
    {
     "data": {
      "text/plain": [
       "array([[ 22.2 ],\n",
       "       [ 28.  ],\n",
       "       [ 31.7 ],\n",
       "       [ 35.7 ],\n",
       "       [ 40.  ],\n",
       "       [ 44.44],\n",
       "       [ 49.11],\n",
       "       [ 54.  ],\n",
       "       [ 59.1 ],\n",
       "       [ 64.4 ],\n",
       "       [ 70.  ],\n",
       "       [ 75.7 ],\n",
       "       [ 81.7 ],\n",
       "       [ 88.  ],\n",
       "       [ 94.4 ],\n",
       "       [101.1 ],\n",
       "       [110.  ],\n",
       "       [115.1 ],\n",
       "       [122.4 ],\n",
       "       [123.  ],\n",
       "       [125.  ],\n",
       "       [126.5 ],\n",
       "       [128.9 ],\n",
       "       [130.  ],\n",
       "       [132.7 ],\n",
       "       [134.  ],\n",
       "       [135.  ],\n",
       "       [136.5 ],\n",
       "       [138.  ],\n",
       "       [140.  ],\n",
       "       [142.  ],\n",
       "       [145.  ],\n",
       "       [148.  ],\n",
       "       [150.  ],\n",
       "       [155.  ],\n",
       "       [158.  ],\n",
       "       [162.  ],\n",
       "       [165.  ],\n",
       "       [169.58],\n",
       "       [170.25],\n",
       "       [175.2 ],\n",
       "       [179.  ],\n",
       "       [182.  ],\n",
       "       [185.  ],\n",
       "       [189.25],\n",
       "       [192.  ],\n",
       "       [195.  ],\n",
       "       [198.  ],\n",
       "       [200.  ]])"
      ]
     },
     "execution_count": 336,
     "metadata": {},
     "output_type": "execute_result"
    }
   ],
   "source": [
    "x"
   ]
  },
  {
   "cell_type": "code",
   "execution_count": 337,
   "metadata": {},
   "outputs": [
    {
     "data": {
      "text/plain": [
       "array([[ 300000],\n",
       "       [ 308000],\n",
       "       [ 400000],\n",
       "       [ 405000],\n",
       "       [ 408500],\n",
       "       [ 409600],\n",
       "       [ 409700],\n",
       "       [ 500000],\n",
       "       [ 505000],\n",
       "       [ 507500],\n",
       "       [ 600000],\n",
       "       [ 605000],\n",
       "       [ 705000],\n",
       "       [ 725000],\n",
       "       [ 735000],\n",
       "       [ 800000],\n",
       "       [ 900000],\n",
       "       [1085000],\n",
       "       [1195800],\n",
       "       [1197800],\n",
       "       [1200000],\n",
       "       [1215000],\n",
       "       [1235000],\n",
       "       [1245000],\n",
       "       [1255000],\n",
       "       [1268000],\n",
       "       [1275000],\n",
       "       [1285000],\n",
       "       [1292000],\n",
       "       [1297000],\n",
       "       [1300000],\n",
       "       [1305000],\n",
       "       [1315000],\n",
       "       [1320000],\n",
       "       [1335000],\n",
       "       [1338500],\n",
       "       [1355000],\n",
       "       [1358000],\n",
       "       [1364789],\n",
       "       [1366000],\n",
       "       [1371000],\n",
       "       [1375000],\n",
       "       [1398563],\n",
       "       [1399700],\n",
       "       [1405000],\n",
       "       [1412000],\n",
       "       [1418956],\n",
       "       [1425000],\n",
       "       [1500000]], dtype=int64)"
      ]
     },
     "execution_count": 337,
     "metadata": {},
     "output_type": "execute_result"
    }
   ],
   "source": [
    "y"
   ]
  },
  {
   "cell_type": "code",
   "execution_count": 338,
   "metadata": {},
   "outputs": [
    {
     "data": {
      "image/png": "[encoded data removed]",
      "text/plain": [
       "<Figure size 432x288 with 1 Axes>"
      ]
     },
     "metadata": {
      "needs_background": "light"
     },
     "output_type": "display_data"
    }
   ],
   "source": [
    "import matplotlib.pyplot as plt\n",
    "plt.scatter(x,y,label = 'Emp Data' , color='red')\n",
    "plt.xlabel(\"Area(in sq yards)\")\n",
    "plt.legend()\n",
    "plt.ylabel(\"Price\")\n",
    "plt.show()"
   ]
  },
  {
   "cell_type": "code",
   "execution_count": 388,
   "metadata": {},
   "outputs": [],
   "source": [
    "from sklearn.model_selection import train_test_split\n",
    "x_train,x_test,y_train,y_test = train_test_split(x,y,test_size=0.6, random_state =0)"
   ]
  },
  {
   "cell_type": "code",
   "execution_count": 389,
   "metadata": {},
   "outputs": [
    {
     "data": {
      "text/plain": [
       "(49, 1)"
      ]
     },
     "execution_count": 389,
     "metadata": {},
     "output_type": "execute_result"
    }
   ],
   "source": [
    "x.shape"
   ]
  },
  {
   "cell_type": "code",
   "execution_count": 390,
   "metadata": {},
   "outputs": [
    {
     "data": {
      "text/plain": [
       "(49, 1)"
      ]
     },
     "execution_count": 390,
     "metadata": {},
     "output_type": "execute_result"
    }
   ],
   "source": [
    "y.shape"
   ]
  },
  {
   "cell_type": "code",
   "execution_count": 391,
   "metadata": {},
   "outputs": [
    {
     "data": {
      "text/plain": [
       "(30, 1)"
      ]
     },
     "execution_count": 391,
     "metadata": {},
     "output_type": "execute_result"
    }
   ],
   "source": [
    "x_test.shape"
   ]
  },
  {
   "cell_type": "code",
   "execution_count": 392,
   "metadata": {},
   "outputs": [
    {
     "data": {
      "text/plain": [
       "(30, 1)"
      ]
     },
     "execution_count": 392,
     "metadata": {},
     "output_type": "execute_result"
    }
   ],
   "source": [
    "y_test.shape"
   ]
  },
  {
   "cell_type": "code",
   "execution_count": 393,
   "metadata": {},
   "outputs": [
    {
     "data": {
      "text/plain": [
       "LinearRegression()"
      ]
     },
     "execution_count": 393,
     "metadata": {},
     "output_type": "execute_result"
    }
   ],
   "source": [
    "from sklearn.linear_model import LinearRegression\n",
    "regressor = LinearRegression()\n",
    "regressor.fit(x_train,y_train)"
   ]
  },
  {
   "cell_type": "code",
   "execution_count": 394,
   "metadata": {},
   "outputs": [],
   "source": [
    "y_pred = regressor.predict(x_test)"
   ]
  },
  {
   "cell_type": "code",
   "execution_count": 395,
   "metadata": {},
   "outputs": [
    {
     "data": {
      "text/plain": [
       "array([[1149224.65838571],\n",
       "       [ 435207.3960071 ],\n",
       "       [1113523.79526678],\n",
       "       [1163505.00363329],\n",
       "       [1206346.039376  ],\n",
       "       [1327728.97398037],\n",
       "       [1256327.24774251],\n",
       "       [1400558.73474298],\n",
       "       [ 535169.81274011],\n",
       "       [ 649412.57472069],\n",
       "       [ 690111.55867627],\n",
       "       [1184925.52150464],\n",
       "       [1220626.38462357],\n",
       "       [1124234.05420246],\n",
       "       [1577635.01581288],\n",
       "       [ 375943.96322968],\n",
       "       [1541934.15269395],\n",
       "       [1023557.62020708],\n",
       "       [ 871471.94332043],\n",
       "       [1134944.31313814],\n",
       "       [1069968.74226169],\n",
       "       [ 935019.47967213],\n",
       "       [1427691.39071337],\n",
       "       [1042122.06902892],\n",
       "       [1449111.90858473],\n",
       "       [ 571584.69312142],\n",
       "       [ 777935.68194884],\n",
       "       [1106383.622643  ],\n",
       "       [ 466909.76245671],\n",
       "       [ 971434.36005344]])"
      ]
     },
     "execution_count": 395,
     "metadata": {},
     "output_type": "execute_result"
    }
   ],
   "source": [
    "y_pred"
   ]
  },
  {
   "cell_type": "code",
   "execution_count": 396,
   "metadata": {},
   "outputs": [
    {
     "data": {
      "text/plain": [
       "array([[1297000],\n",
       "       [ 408500],\n",
       "       [1275000],\n",
       "       [1300000],\n",
       "       [1315000],\n",
       "       [1358000],\n",
       "       [1335000],\n",
       "       [1371000],\n",
       "       [ 500000],\n",
       "       [ 600000],\n",
       "       [ 605000],\n",
       "       [1305000],\n",
       "       [1320000],\n",
       "       [1285000],\n",
       "       [1500000],\n",
       "       [ 400000],\n",
       "       [1418956],\n",
       "       [1195800],\n",
       "       [ 800000],\n",
       "       [1292000],\n",
       "       [1235000],\n",
       "       [ 900000],\n",
       "       [1375000],\n",
       "       [1200000],\n",
       "       [1398563],\n",
       "       [ 505000],\n",
       "       [ 725000],\n",
       "       [1268000],\n",
       "       [ 409600],\n",
       "       [1085000]], dtype=int64)"
      ]
     },
     "execution_count": 396,
     "metadata": {},
     "output_type": "execute_result"
    }
   ],
   "source": [
    "y_test"
   ]
  },
  {
   "cell_type": "code",
   "execution_count": 397,
   "metadata": {},
   "outputs": [],
   "source": [
    "from sklearn.metrics import r2_score\n",
    "accuracy = r2_score(y_test,y_pred)"
   ]
  },
  {
   "cell_type": "code",
   "execution_count": 398,
   "metadata": {},
   "outputs": [
    {
     "data": {
      "text/plain": [
       "0.9133368493231999"
      ]
     },
     "execution_count": 398,
     "metadata": {},
     "output_type": "execute_result"
    }
   ],
   "source": [
    "accuracy"
   ]
  },
  {
   "cell_type": "code",
   "execution_count": null,
   "metadata": {},
   "outputs": [],
   "source": []
  },
  {
   "cell_type": "code",
   "execution_count": null,
   "metadata": {},
   "outputs": [],
   "source": []
  }
 ],
 "metadata": {
  "kernelspec": {
   "display_name": "Python 3",
   "language": "python",
   "name": "python3"
  },
  "language_info": {
   "codemirror_mode": {
    "name": "ipython",
    "version": 3
   },
   "file_extension": ".py",
   "mimetype": "text/x-python",
   "name": "python",
   "nbconvert_exporter": "python",
   "pygments_lexer": "ipython3",
   "version": "3.8.5"
  }
 },
 "nbformat": 4,
 "nbformat_minor": 4
}
